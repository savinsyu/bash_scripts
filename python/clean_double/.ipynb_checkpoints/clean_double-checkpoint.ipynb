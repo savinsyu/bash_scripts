{
 "cells": [
  {
   "cell_type": "code",
   "execution_count": 1,
   "id": "212ec389-9954-424a-8167-04c4b06ca3bf",
   "metadata": {},
   "outputs": [],
   "source": [
    "import pandas as pd\n",
    "\n",
    "df = pd.read_excel(\"file.xlsx \")"
   ]
  },
  {
   "cell_type": "code",
   "execution_count": 4,
   "id": "f312577b-64ec-4615-8762-f980246061df",
   "metadata": {},
   "outputs": [
    {
     "name": "stdout",
     "output_type": "stream",
     "text": [
      "<class 'pandas.core.frame.DataFrame'>\n",
      "RangeIndex: 32 entries, 0 to 31\n",
      "Data columns (total 3 columns):\n",
      " #   Column    Non-Null Count  Dtype \n",
      "---  ------    --------------  ----- \n",
      " 0   Фамилия   32 non-null     object\n",
      " 1   Имя       32 non-null     object\n",
      " 2   Отчество  32 non-null     object\n",
      "dtypes: object(3)\n",
      "memory usage: 900.0+ bytes\n"
     ]
    }
   ],
   "source": [
    "df.info()"
   ]
  },
  {
   "cell_type": "code",
   "execution_count": 6,
   "id": "30538dfa-374d-4dd0-a11b-84991d2cc7e9",
   "metadata": {},
   "outputs": [],
   "source": [
    "df_clean = df.drop_duplicates(subset=['Фамилия','Имя','Отчество'])"
   ]
  },
  {
   "cell_type": "code",
   "execution_count": 7,
   "id": "6760dfae-8215-4c6e-b215-13ce34f01cd4",
   "metadata": {},
   "outputs": [
    {
     "data": {
      "text/plain": [
       "(30, 3)"
      ]
     },
     "execution_count": 7,
     "metadata": {},
     "output_type": "execute_result"
    }
   ],
   "source": [
    "df_clean.shape"
   ]
  },
  {
   "cell_type": "code",
   "execution_count": 9,
   "id": "f0d23da6-8022-448e-a47a-b554c1d7b266",
   "metadata": {},
   "outputs": [],
   "source": [
    "df_clean = df.drop_duplicates(subset=['Фамилия','Имя','Отчество'])\n",
    "df_clean.to_excel(\"file_clean.xlsx\")"
   ]
  }
 ],
 "metadata": {
  "kernelspec": {
   "display_name": "Python 3 (ipykernel)",
   "language": "python",
   "name": "python3"
  },
  "language_info": {
   "codemirror_mode": {
    "name": "ipython",
    "version": 3
   },
   "file_extension": ".py",
   "mimetype": "text/x-python",
   "name": "python",
   "nbconvert_exporter": "python",
   "pygments_lexer": "ipython3",
   "version": "3.12.7"
  }
 },
 "nbformat": 4,
 "nbformat_minor": 5
}
